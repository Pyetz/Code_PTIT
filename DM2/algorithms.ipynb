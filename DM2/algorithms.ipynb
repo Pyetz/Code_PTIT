{
 "cells": [
  {
   "cell_type": "code",
   "execution_count": 1,
   "metadata": {},
   "outputs": [],
   "source": [
    "import numpy as np"
   ]
  },
  {
   "cell_type": "code",
   "execution_count": 2,
   "metadata": {},
   "outputs": [
    {
     "name": "stdout",
     "output_type": "stream",
     "text": [
      "[[ 0  1  2  3  4  5  6  7  8  9 10]\n",
      " [ 1  0  0  0  0  0  0  0  0  0  0]\n",
      " [ 2  0  0  0  0  0  0  0  0  0  0]\n",
      " [ 3  0  0  0  0  0  0  0  0  0  0]\n",
      " [ 4  0  0  0  0  0  0  0  0  0  0]\n",
      " [ 5  0  0  0  0  0  0  0  0  0  0]\n",
      " [ 6  0  0  0  0  0  0  0  0  0  0]\n",
      " [ 7  0  0  0  0  0  0  0  0  0  0]\n",
      " [ 8  0  0  0  0  0  0  0  0  0  0]\n",
      " [ 9  0  0  0  0  0  0  0  0  0  0]\n",
      " [10  0  0  0  0  0  0  0  0  0  0]]\n"
     ]
    }
   ],
   "source": [
    "n = int(input(\"nhập số đỉnh: \"))\n",
    "m = int(input(\"nhập số cạnh: \"))\n",
    "\n",
    "admatrix = np.array([[0 for i in range(n+1)] for j in range(n+1)])\n",
    "admatrix[0] = [i for i in range(n+1)]\n",
    "for i in range(n+1):\n",
    "    admatrix[i][0] = i\n",
    "\n",
    "for i in range(m):\n",
    "    u = int(input(\"nhập u: \"))\n",
    "    v = int(input(\"nhập v: \"))\n",
    "    admatrix[u][v] = 1\n",
    "    admatrix[v][u] = 1\n",
    "\n",
    "print(admatrix)"
   ]
  }
 ],
 "metadata": {
  "kernelspec": {
   "display_name": "Python 3",
   "language": "python",
   "name": "python3"
  },
  "language_info": {
   "codemirror_mode": {
    "name": "ipython",
    "version": 3
   },
   "file_extension": ".py",
   "mimetype": "text/x-python",
   "name": "python",
   "nbconvert_exporter": "python",
   "pygments_lexer": "ipython3",
   "version": "3.11.7"
  }
 },
 "nbformat": 4,
 "nbformat_minor": 2
}
