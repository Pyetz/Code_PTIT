{
  "cells": [
    {
      "cell_type": "markdown",
      "metadata": {
        "id": "dkmZn651mXpX"
      },
      "source": [
        "# Import Libraries"
      ]
    },
    {
      "cell_type": "code",
      "execution_count": 1,
      "metadata": {
        "id": "-5DVWIL06frr"
      },
      "outputs": [],
      "source": [
        "import pandas as pd\n",
        "import numpy as np\n",
        "import matplotlib.pyplot as plt"
      ]
    },
    {
      "cell_type": "markdown",
      "metadata": {
        "id": "8aAJtV7hmcEQ"
      },
      "source": [
        "# Global Variables"
      ]
    },
    {
      "cell_type": "code",
      "execution_count": 2,
      "metadata": {
        "id": "0NeqDKXkmqDZ"
      },
      "outputs": [],
      "source": [
        "data_train_path = 'mnist_train.csv'\n",
        "data_test_path = 'mnist_test.csv'"
      ]
    },
    {
      "cell_type": "markdown",
      "metadata": {
        "id": "IwVTYFdWKtQX"
      },
      "source": [
        "# Load File"
      ]
    },
    {
      "cell_type": "code",
      "execution_count": 3,
      "metadata": {
        "id": "UvbcYbsRl0SR"
      },
      "outputs": [],
      "source": [
        "df_train = pd.read_csv(data_train_path)\n",
        "df_test = pd.read_csv(data_test_path)"
      ]
    },
    {
      "cell_type": "code",
      "execution_count": 4,
      "metadata": {
        "colab": {
          "base_uri": "https://localhost:8080/"
        },
        "id": "Ey4zqzAyqiiN",
        "outputId": "e4d83925-6a01-4d5d-8852-30450150484c"
      },
      "outputs": [
        {
          "name": "stdout",
          "output_type": "stream",
          "text": [
            "(60000, 785)\n",
            "       label  1x1  1x2  1x3  1x4  1x5  1x6  1x7  1x8  1x9  ...  28x19  28x20  \\\n",
            "0          5    0    0    0    0    0    0    0    0    0  ...      0      0   \n",
            "1          0    0    0    0    0    0    0    0    0    0  ...      0      0   \n",
            "2          4    0    0    0    0    0    0    0    0    0  ...      0      0   \n",
            "3          1    0    0    0    0    0    0    0    0    0  ...      0      0   \n",
            "4          9    0    0    0    0    0    0    0    0    0  ...      0      0   \n",
            "...      ...  ...  ...  ...  ...  ...  ...  ...  ...  ...  ...    ...    ...   \n",
            "59995      8    0    0    0    0    0    0    0    0    0  ...      0      0   \n",
            "59996      3    0    0    0    0    0    0    0    0    0  ...      0      0   \n",
            "59997      5    0    0    0    0    0    0    0    0    0  ...      0      0   \n",
            "59998      6    0    0    0    0    0    0    0    0    0  ...      0      0   \n",
            "59999      8    0    0    0    0    0    0    0    0    0  ...      0      0   \n",
            "\n",
            "       28x21  28x22  28x23  28x24  28x25  28x26  28x27  28x28  \n",
            "0          0      0      0      0      0      0      0      0  \n",
            "1          0      0      0      0      0      0      0      0  \n",
            "2          0      0      0      0      0      0      0      0  \n",
            "3          0      0      0      0      0      0      0      0  \n",
            "4          0      0      0      0      0      0      0      0  \n",
            "...      ...    ...    ...    ...    ...    ...    ...    ...  \n",
            "59995      0      0      0      0      0      0      0      0  \n",
            "59996      0      0      0      0      0      0      0      0  \n",
            "59997      0      0      0      0      0      0      0      0  \n",
            "59998      0      0      0      0      0      0      0      0  \n",
            "59999      0      0      0      0      0      0      0      0  \n",
            "\n",
            "[60000 rows x 785 columns]\n"
          ]
        }
      ],
      "source": [
        "print(df_train.shape)\n",
        "print(df_train)\n",
        "data_train = df_train.to_numpy()\n",
        "len_data_train = len(data_train)"
      ]
    },
    {
      "cell_type": "code",
      "execution_count": 5,
      "metadata": {
        "colab": {
          "base_uri": "https://localhost:8080/"
        },
        "id": "MoikutKyCwup",
        "outputId": "0a1dd57a-4c7c-4d91-dba5-43312562b434"
      },
      "outputs": [
        {
          "name": "stdout",
          "output_type": "stream",
          "text": [
            "7\n"
          ]
        }
      ],
      "source": [
        "# print(df_train['label'][0])\n",
        "# arr = np.array(df_train)\n",
        "# print(arr)\n",
        "# print(arr.shape)\n",
        "# print(data_train)\n",
        "lst = [(1, 2), (2, 3), (5, 6), (3, 4)]\n",
        "lst = sorted(lst, key=lambda x: x[1])\n",
        "\n",
        "lst2 = np.array([0, 1, 2, 3, 4, 5, 6, 10, 8, 9])\n",
        "print(np.argmax(lst2))"
      ]
    },
    {
      "cell_type": "code",
      "execution_count": 6,
      "metadata": {
        "colab": {
          "base_uri": "https://localhost:8080/"
        },
        "id": "9gz190IjK2zn",
        "outputId": "bc40f8f2-ee31-4b6e-ac88-bf77bba6c115"
      },
      "outputs": [
        {
          "name": "stdout",
          "output_type": "stream",
          "text": [
            "(10000, 785)\n",
            "      label  1x1  1x2  1x3  1x4  1x5  1x6  1x7  1x8  1x9  ...  28x19  28x20  \\\n",
            "0         7    0    0    0    0    0    0    0    0    0  ...      0      0   \n",
            "1         2    0    0    0    0    0    0    0    0    0  ...      0      0   \n",
            "2         1    0    0    0    0    0    0    0    0    0  ...      0      0   \n",
            "3         0    0    0    0    0    0    0    0    0    0  ...      0      0   \n",
            "4         4    0    0    0    0    0    0    0    0    0  ...      0      0   \n",
            "...     ...  ...  ...  ...  ...  ...  ...  ...  ...  ...  ...    ...    ...   \n",
            "9995      2    0    0    0    0    0    0    0    0    0  ...      0      0   \n",
            "9996      3    0    0    0    0    0    0    0    0    0  ...      0      0   \n",
            "9997      4    0    0    0    0    0    0    0    0    0  ...      0      0   \n",
            "9998      5    0    0    0    0    0    0    0    0    0  ...      0      0   \n",
            "9999      6    0    0    0    0    0    0    0    0    0  ...      0      0   \n",
            "\n",
            "      28x21  28x22  28x23  28x24  28x25  28x26  28x27  28x28  \n",
            "0         0      0      0      0      0      0      0      0  \n",
            "1         0      0      0      0      0      0      0      0  \n",
            "2         0      0      0      0      0      0      0      0  \n",
            "3         0      0      0      0      0      0      0      0  \n",
            "4         0      0      0      0      0      0      0      0  \n",
            "...     ...    ...    ...    ...    ...    ...    ...    ...  \n",
            "9995      0      0      0      0      0      0      0      0  \n",
            "9996      0      0      0      0      0      0      0      0  \n",
            "9997      0      0      0      0      0      0      0      0  \n",
            "9998      0      0      0      0      0      0      0      0  \n",
            "9999      0      0      0      0      0      0      0      0  \n",
            "\n",
            "[10000 rows x 785 columns]\n"
          ]
        }
      ],
      "source": [
        "print(df_test.shape)\n",
        "print(df_test)\n",
        "data_test = df_test.to_numpy()\n",
        "len_data_test = len(data_test)"
      ]
    },
    {
      "cell_type": "markdown",
      "metadata": {
        "id": "Sm1Mc35f7aMF"
      },
      "source": [
        "# Functions"
      ]
    },
    {
      "cell_type": "markdown",
      "metadata": {
        "id": "3GJ85JK98CTg"
      },
      "source": [
        "Tính khoảng cách euclid giữa 2 điểm bất kì"
      ]
    },
    {
      "cell_type": "code",
      "execution_count": 7,
      "metadata": {
        "id": "iQnoW-O97f6N"
      },
      "outputs": [],
      "source": [
        "def euclidean_distance(x1, x2):\n",
        "    return np.sqrt(np.sum(np.power(np.subtract(x1, x2), 2)))"
      ]
    },
    {
      "cell_type": "markdown",
      "metadata": {
        "id": "PvKUudk5SIox"
      },
      "source": [
        "Trả về list K lân cận gần nhất so với điểm test đang xét\n",
        "\n"
      ]
    },
    {
      "cell_type": "code",
      "execution_count": 8,
      "metadata": {
        "id": "jThoQs6u8B4A"
      },
      "outputs": [],
      "source": [
        "def get_k_nearest_neighbors(test, k):\n",
        "    k_nearest_neighbors = [(data_train[idx][0], euclidean_distance(test, data_train[idx][1:])) for idx in range(k)]\n",
        "    k_nearest_neighbors = sorted(k_nearest_neighbors, key=lambda x: x[1])\n",
        "    for idx in range(k, len_data_train):\n",
        "        distance = euclidean_distance(test, data_train[idx][1:])\n",
        "        if distance < k_nearest_neighbors[0][1]:\n",
        "            k_nearest_neighbors[0] = (data_train[idx][0], distance)\n",
        "            k_nearest_neighbors = sorted(k_nearest_neighbors, key=lambda x: x[0])\n",
        "\n",
        "    return k_nearest_neighbors"
      ]
    },
    {
      "cell_type": "markdown",
      "metadata": {
        "id": "DMdjeJ1HhdVl"
      },
      "source": [
        "Dự đoán dựa trên list K lân cận gần nhất"
      ]
    },
    {
      "cell_type": "code",
      "execution_count": 9,
      "metadata": {
        "id": "jdfSZZgtMDXn"
      },
      "outputs": [],
      "source": [
        "def predict(k_nearest_neighbors):\n",
        "    distances = np.zeros(10)\n",
        "    for (label, distance) in k_nearest_neighbors:\n",
        "        distances[label] += 1/distance\n",
        "\n",
        "    return np.argmax(distances)"
      ]
    },
    {
      "cell_type": "markdown",
      "metadata": {
        "id": "1PyI55h8igaE"
      },
      "source": [
        "Trả về độ chính xác của quá trình dự đoán"
      ]
    },
    {
      "cell_type": "code",
      "execution_count": 10,
      "metadata": {
        "id": "SrEIZfaXSUHi"
      },
      "outputs": [],
      "source": [
        "def evaluate_accuracy(test_label, predictions):\n",
        "    test_label = np.array(test_label)\n",
        "    predictions = np.array(predictions)\n",
        "    correct = 0\n",
        "\n",
        "    same = np.where(test_label == predictions, 1, 0)\n",
        "    return np.sum(same) / len(same) *100"
      ]
    },
    {
      "cell_type": "markdown",
      "metadata": {
        "id": "EeGYTIa1jTQy"
      },
      "source": [
        "# Solve"
      ]
    },
    {
      "cell_type": "markdown",
      "metadata": {
        "id": "hdqoOV6ejesi"
      },
      "source": [
        "Chọn đoạn data từ tập test"
      ]
    },
    {
      "cell_type": "code",
      "execution_count": 11,
      "metadata": {
        "id": "tZa6EAINjo7f"
      },
      "outputs": [],
      "source": [
        "begin = 0\n",
        "end = 10"
      ]
    },
    {
      "cell_type": "markdown",
      "metadata": {
        "id": "vPW8sNHQjuZO"
      },
      "source": [
        "Thực hiện dự đoán và in ra độ chính xác"
      ]
    },
    {
      "cell_type": "code",
      "execution_count": 12,
      "metadata": {
        "id": "Jv2IPMk6SQ2K"
      },
      "outputs": [
        {
          "name": "stdout",
          "output_type": "stream",
          "text": [
            "Accuracy: 70.0%\n"
          ]
        }
      ],
      "source": [
        "predictions = []\n",
        "for test in data_test[begin:end, :]:\n",
        "    k_nearest_neighbors = get_k_nearest_neighbors(test[1:], 5)\n",
        "    predictions.append(predict(k_nearest_neighbors))\n",
        "\n",
        "accuracy = evaluate_accuracy(data_test[begin:end, 0], predictions)\n",
        "print(\"Accuracy: \" + str(accuracy) + \"%\")"
      ]
    },
    {
      "cell_type": "markdown",
      "metadata": {
        "id": "QYR_bCmxkDIl"
      },
      "source": [
        "# Bonus"
      ]
    },
    {
      "cell_type": "code",
      "execution_count": 14,
      "metadata": {},
      "outputs": [],
      "source": [
        "import cv2"
      ]
    },
    {
      "cell_type": "markdown",
      "metadata": {
        "id": "Gmu-w4aUkHO0"
      },
      "source": [
        "Tự tạo ra 1 ảnh số 9 và in ra dự đoán"
      ]
    },
    {
      "cell_type": "code",
      "execution_count": 15,
      "metadata": {
        "colab": {
          "base_uri": "https://localhost:8080/",
          "height": 216
        },
        "id": "f8CCwq1fZtRC",
        "outputId": "a5e67dab-d501-4047-99b9-758e3cc55e09"
      },
      "outputs": [
        {
          "data": {
            "image/png": "[encoded data removed]",
            "text/plain": [
              "<Figure size 640x480 with 1 Axes>"
            ]
          },
          "metadata": {},
          "output_type": "display_data"
        },
        {
          "name": "stdout",
          "output_type": "stream",
          "text": [
            "Prediction: 9\n"
          ]
        }
      ],
      "source": [
        "img = cv2.imread('9.png', 1)\n",
        "img = cv2.cvtColor(img, cv2.COLOR_BGR2GRAY)\n",
        "img = cv2.resize(img, (28, 28))\n",
        "\n",
        "plt.imshow(img, cmap='gray')\n",
        "plt.show()\n",
        "\n",
        "img = img.reshape(28*28)\n",
        "k_nearest_neighbors = get_k_nearest_neighbors(img, 8)\n",
        "prediction = predict(k_nearest_neighbors)\n",
        "print(\"Prediction: \" + str(prediction))"
      ]
    }
  ],
  "metadata": {
    "colab": {
      "provenance": []
    },
    "kernelspec": {
      "display_name": "Python 3",
      "name": "python3"
    },
    "language_info": {
      "codemirror_mode": {
        "name": "ipython",
        "version": 3
      },
      "file_extension": ".py",
      "mimetype": "text/x-python",
      "name": "python",
      "nbconvert_exporter": "python",
      "pygments_lexer": "ipython3",
      "version": "3.11.5"
    }
  },
  "nbformat": 4,
  "nbformat_minor": 0
}
